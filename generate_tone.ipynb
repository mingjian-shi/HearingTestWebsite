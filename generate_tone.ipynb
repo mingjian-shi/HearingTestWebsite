{
 "cells": [
  {
   "cell_type": "code",
   "execution_count": null,
   "id": "55b0f931",
   "metadata": {
    "vscode": {
     "languageId": "plaintext"
    }
   },
   "outputs": [],
   "source": [
    "!pip install numpy scipy"
   ]
  },
  {
   "cell_type": "code",
   "execution_count": null,
   "id": "77877283",
   "metadata": {
    "vscode": {
     "languageId": "plaintext"
    }
   },
   "outputs": [],
   "source": [
    "import numpy as np\n",
    "from scipy.io.wavfile import write\n",
    "import os\n",
    "\n",
    "sample_rate = 44100\n",
    "duration = 1.0  # seconds\n",
    "base_freqs = [250, 500, 1000, 2000, 4000, 8000]\n",
    "base_vols_db = [20, 40]\n",
    "\n",
    "# Fix: use practical volume values directly\n",
    "volume_map = {\n",
    "    20: 0.2,\n",
    "    40: 0.5\n",
    "}\n",
    "\n",
    "def generate_tone(freq, volume, duration, sample_rate):\n",
    "    t = np.linspace(0, duration, int(sample_rate * duration), endpoint=False)\n",
    "    waveform = np.sin(2 * np.pi * freq * t) * volume\n",
    "    return np.int16(waveform * 32767)\n",
    "\n",
    "def generate_stereo_tone(freq, vol, ear):\n",
    "    mono = generate_tone(freq, vol, duration, sample_rate)\n",
    "    if ear == 'left':\n",
    "        stereo = np.column_stack((mono, np.zeros_like(mono)))\n",
    "    elif ear == 'right':\n",
    "        stereo = np.column_stack((np.zeros_like(mono), mono))\n",
    "    else:\n",
    "        stereo = np.column_stack((mono, mono))\n",
    "    return stereo\n",
    "\n",
    "# Output folder\n",
    "output_dir = \"audio\"\n",
    "os.makedirs(output_dir, exist_ok=True)\n",
    "\n",
    "for freq in base_freqs:\n",
    "    for db in base_vols_db:\n",
    "        vol = volume_map[db]\n",
    "        for ear in ['both', 'left', 'right']:\n",
    "            stereo_audio = generate_stereo_tone(freq, vol, ear)\n",
    "            filename = f\"{freq}Hz_{db}dB\" + (f\"_{ear}\" if ear != 'both' else \"\") + \".wav\"\n",
    "            filepath = os.path.join(output_dir, filename)\n",
    "            write(filepath, sample_rate, stereo_audio)\n",
    "            print(f\"✅ Saved {filename}\")"
   ]
  },
  {
   "cell_type": "code",
   "execution_count": null,
   "id": "74de8725",
   "metadata": {
    "vscode": {
     "languageId": "plaintext"
    }
   },
   "outputs": [],
   "source": [
    "import shutil\n",
    "shutil.make_archive(\"hearing_test_audio\", 'zip', output_dir)"
   ]
  }
 ],
 "metadata": {
  "language_info": {
   "name": "python"
  }
 },
 "nbformat": 4,
 "nbformat_minor": 5
}
