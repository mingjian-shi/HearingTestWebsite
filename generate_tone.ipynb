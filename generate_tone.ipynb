{
 "cells": [
  {
   "cell_type": "code",
   "execution_count": null,
   "id": "55b0f931",
   "metadata": {
    "vscode": {
     "languageId": "plaintext"
    }
   },
   "outputs": [],
   "source": [
    "from scipy.io.wavfile import write\n",
    "import numpy as np, os\n",
    "\n",
    "os.makedirs(\"tones\", exist_ok=True)\n",
    "def gen(freq, freq_label, vol):\n",
    "    t = np.linspace(0, 2, 44100*2, False)\n",
    "    tone = vol * np.sin(2*np.pi*freq*t)\n",
    "    arr = np.int16(tone * 32767)\n",
    "    write(f\"tones/{freq}Hz_{int(vol*100)}dB.wav\", 44100, arr)\n",
    "\n",
    "for f in [250,500,1000,2000,4000,8000]:\n",
    "    for v in [0.2,0.4]:\n",
    "        gen(f, f, v)"
   ]
  }
 ],
 "metadata": {
  "language_info": {
   "name": "python"
  }
 },
 "nbformat": 4,
 "nbformat_minor": 5
}
